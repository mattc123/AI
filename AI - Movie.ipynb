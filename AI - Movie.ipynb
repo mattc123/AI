{
 "cells": [
  {
   "cell_type": "code",
   "execution_count": 2,
   "metadata": {},
   "outputs": [],
   "source": [
    "import numpy as np\n",
    "import pandas as pd\n",
    "\n",
    "#for nlp\n",
    "import nltk\n",
    "from nltk.corpus import stopwords \n",
    "from nltk.stem.snowball import SnowballStemmer\n",
    "from nltk.corpus import stopwords\n",
    "\n",
    "#text vectorisation\n",
    "from sklearn.feature_extraction.text import CountVectorizer, TfidfTransformer, TfidfVectorizer\n",
    "\n",
    "#metrics\n",
    "from sklearn.metrics import classification_report, accuracy_score, confusion_matrix,  roc_curve, auc\n",
    "\n",
    "#import method releated to evaluation\n",
    "from sklearn import model_selection\n",
    "from sklearn.pipeline import make_pipeline\n",
    "from sklearn.pipeline import Pipeline\n",
    "from sklearn.model_selection import train_test_split, cross_val_score, GridSearchCV\n",
    "\n",
    "#classifiers\n",
    "#from sklearn.linear_model import LogisticRegression\n",
    "from sklearn.neighbors import KNeighborsClassifier\n",
    "from sklearn.neural_network import MLPClassifier\n",
    "from sklearn.naive_bayes import MultinomialNB\n",
    "\n",
    "#for graphs\n",
    "%matplotlib inline\n",
    "import matplotlib.pyplot as plt\n",
    "import seaborn as sns"
   ]
  },
  {
   "cell_type": "code",
   "execution_count": 3,
   "metadata": {},
   "outputs": [],
   "source": [
    "filename = 'movie_data_cat.csv'\n",
    "df = pd.read_csv(filename) "
   ]
  },
  {
   "cell_type": "code",
   "execution_count": 4,
   "metadata": {},
   "outputs": [
    {
     "name": "stdout",
     "output_type": "stream",
     "text": [
      "{'neg': 0, 'pos': 1}\n"
     ]
    },
    {
     "data": {
      "text/html": [
       "<div>\n",
       "<style scoped>\n",
       "    .dataframe tbody tr th:only-of-type {\n",
       "        vertical-align: middle;\n",
       "    }\n",
       "\n",
       "    .dataframe tbody tr th {\n",
       "        vertical-align: top;\n",
       "    }\n",
       "\n",
       "    .dataframe thead th {\n",
       "        text-align: right;\n",
       "    }\n",
       "</style>\n",
       "<table border=\"1\" class=\"dataframe\">\n",
       "  <thead>\n",
       "    <tr style=\"text-align: right;\">\n",
       "      <th></th>\n",
       "      <th>review</th>\n",
       "      <th>sentiment</th>\n",
       "    </tr>\n",
       "  </thead>\n",
       "  <tbody>\n",
       "    <tr>\n",
       "      <th>0</th>\n",
       "      <td>In 1974, the teenager Martha Moxley (Maggie Gr...</td>\n",
       "      <td>1</td>\n",
       "    </tr>\n",
       "    <tr>\n",
       "      <th>1</th>\n",
       "      <td>OK... so... I really like Kris Kristofferson a...</td>\n",
       "      <td>0</td>\n",
       "    </tr>\n",
       "    <tr>\n",
       "      <th>2</th>\n",
       "      <td>***SPOILER*** Do not read this, if you think a...</td>\n",
       "      <td>0</td>\n",
       "    </tr>\n",
       "  </tbody>\n",
       "</table>\n",
       "</div>"
      ],
      "text/plain": [
       "                                              review  sentiment\n",
       "0  In 1974, the teenager Martha Moxley (Maggie Gr...          1\n",
       "1  OK... so... I really like Kris Kristofferson a...          0\n",
       "2  ***SPOILER*** Do not read this, if you think a...          0"
      ]
     },
     "execution_count": 4,
     "metadata": {},
     "output_type": "execute_result"
    }
   ],
   "source": [
    "#change labels from pos and neg to 1 and 0\n",
    "class_mapping = {label:idx for idx,label in enumerate(np.unique(df['sentiment']))}\n",
    "\n",
    "print(class_mapping)\n",
    "class_labels = [x for x in class_mapping] # store the class labels for later\n",
    "df[\"sentiment\"] = df[\"sentiment\"].map(class_mapping)\n",
    "df.head(3)"
   ]
  },
  {
   "cell_type": "code",
   "execution_count": 5,
   "metadata": {},
   "outputs": [
    {
     "name": "stdout",
     "output_type": "stream",
     "text": [
      "[nltk_data] Downloading package stopwords to C:\\Users\\Matt\n",
      "[nltk_data]     Christie\\AppData\\Roaming\\nltk_data...\n",
      "[nltk_data]   Package stopwords is already up-to-date!\n"
     ]
    },
    {
     "data": {
      "text/plain": [
       "True"
      ]
     },
     "execution_count": 5,
     "metadata": {},
     "output_type": "execute_result"
    }
   ],
   "source": [
    "nltk.download('stopwords')"
   ]
  },
  {
   "cell_type": "code",
   "execution_count": 6,
   "metadata": {},
   "outputs": [],
   "source": [
    "stop = set(stopwords.words('english'))\n",
    "stemmer = SnowballStemmer(\"english\")\n",
    "\n",
    "import re\n",
    "def preprocessor(text):\n",
    "    text = re.sub('<[^>]*>', '', text) # remove all html markup\n",
    "    emoticons = re.findall('(?::|;|=)(?:-)?(?:\\)|\\(|D|P)', text) # findall the emoticons\n",
    "    \n",
    "    # remove the non-word chars '[\\W]+'\n",
    "    # append the emoticons to end \n",
    "    #convert all to lowercase\n",
    "    # remove nose char for consistency\n",
    "    text = (re.sub('[\\W]+', ' ', text.lower()) +\n",
    "            ' '.join(emoticons).replace('-', '')) \n",
    "    return text\n",
    "\n",
    "\n",
    "df['review'] = df['review'].apply(preprocessor)\n",
    "\n",
    "\n",
    "def tokenizer(text):\n",
    "       return text.split()\n",
    "\n",
    "def tokenizer_stemmer(text):\n",
    "    return [stemmer.stem(word) for word in tokenizer(text)]#text.split()]\n",
    "def stop_removal(text):\n",
    "       return [w for w in text if not w in stop]"
   ]
  },
  {
   "cell_type": "code",
   "execution_count": 7,
   "metadata": {},
   "outputs": [
    {
     "data": {
      "text/plain": [
       "'we could still use black adder even today imagine rowan atkinson resuming the role of assistant to the prime minister played by the wonderful hugh laurie hugh is sensational as the dimwit prince george and edmund as his brilliant assistant i love the episode which kenneth connor guest stars as a british thespian every time edmund says macbeth the two thespians do a silly little act to ward off evil spirits it s the funniest things that you will see of course none of this brilliance and comedic genius could be without ben elton and richard curtis who are also behind the films like love actually the thin blue line four weddings and a funeral black adder is funny and almost too good for television humor can be smart sexy and funny all at one i was hoping last night on saturday night live that hugh laurie would pay homage to his background in british humor if the gang at snl did some research they would know what a treasure it was to have hugh laurie grace their stage '"
      ]
     },
     "execution_count": 7,
     "metadata": {},
     "output_type": "execute_result"
    }
   ],
   "source": [
    "df.loc[180, 'review']"
   ]
  },
  {
   "cell_type": "code",
   "execution_count": 8,
   "metadata": {},
   "outputs": [],
   "source": [
    "param_grid = [{'tfidfvectorizer__ngram_range': [(1, 1)], #can also extract 2-grams of words in addition to the 1-grams (individual words)\n",
    "               'tfidfvectorizer__stop_words': [stop, None], # use the stop dictionary of stopwords or not\n",
    "               'tfidfvectorizer__max_features': [1000, 4000], # use the stop dictionary of stopwords or not\n",
    "               'tfidfvectorizer__tokenizer': [tokenizer_stemmer]}, # use a tokeniser and the stemmer \n",
    "              ]\n",
    "\n",
    "tfidf = TfidfVectorizer(strip_accents=None,\n",
    "                        lowercase=False,\n",
    "                        #max_features=4000,\n",
    "                        min_df=7,\n",
    "                        preprocessor=None)"
   ]
  },
  {
   "cell_type": "markdown",
   "metadata": {},
   "source": [
    "# k-Nearest Neighbors"
   ]
  },
  {
   "cell_type": "code",
   "execution_count": 9,
   "metadata": {},
   "outputs": [],
   "source": [
    "pipeline = make_pipeline(TfidfVectorizer(strip_accents=None, lowercase=False, min_df=7, preprocessor=None), \n",
    "                         KNeighborsClassifier(n_neighbors=10, weights ='distance'))\n",
    "\n",
    "gs_tfidf = GridSearchCV(pipeline, param_grid,\n",
    "                           scoring='accuracy',\n",
    "                           cv=5,\n",
    "                           verbose=1,\n",
    "                           n_jobs=1) "
   ]
  },
  {
   "cell_type": "markdown",
   "metadata": {},
   "source": [
    " # Naive Bayes"
   ]
  },
  {
   "cell_type": "code",
   "execution_count": 10,
   "metadata": {},
   "outputs": [],
   "source": [
    "pipelineNB = make_pipeline(TfidfVectorizer(strip_accents=None, lowercase=False, min_df=7, preprocessor=None), \n",
    "                         MultinomialNB(alpha=1.0, fit_prior=True, class_prior=None))\n",
    "\n",
    "gs_tfidfNB = GridSearchCV(pipelineNB, param_grid,\n",
    "                           scoring='accuracy',\n",
    "                           cv=5,\n",
    "                           verbose=1,\n",
    "                           n_jobs=1) "
   ]
  },
  {
   "cell_type": "markdown",
   "metadata": {},
   "source": [
    "# Multilayer Perceptron"
   ]
  },
  {
   "cell_type": "code",
   "execution_count": 11,
   "metadata": {},
   "outputs": [],
   "source": [
    "pipelineMLP = make_pipeline(TfidfVectorizer(strip_accents=None, lowercase=False, min_df=7, preprocessor=None), \n",
    "                         MLPClassifier())\n",
    "\n",
    "gs_tfidfMLP = GridSearchCV(pipelineMLP, param_grid,\n",
    "                           scoring='accuracy',\n",
    "                           cv=5,\n",
    "                           verbose=1,\n",
    "                           n_jobs=1) "
   ]
  },
  {
   "cell_type": "code",
   "execution_count": 12,
   "metadata": {},
   "outputs": [
    {
     "name": "stdout",
     "output_type": "stream",
     "text": [
      "KNN\n",
      "Fitting 5 folds for each of 4 candidates, totalling 20 fits\n"
     ]
    },
    {
     "name": "stderr",
     "output_type": "stream",
     "text": [
      "[Parallel(n_jobs=1)]: Done  20 out of  20 | elapsed:  1.3min finished\n"
     ]
    },
    {
     "name": "stdout",
     "output_type": "stream",
     "text": [
      "Naive Bayes\n",
      "Fitting 5 folds for each of 4 candidates, totalling 20 fits\n"
     ]
    },
    {
     "name": "stderr",
     "output_type": "stream",
     "text": [
      "[Parallel(n_jobs=1)]: Done  20 out of  20 | elapsed:  1.2min finished\n"
     ]
    },
    {
     "name": "stdout",
     "output_type": "stream",
     "text": [
      "Multilayer Perceptron\n",
      "Fitting 5 folds for each of 4 candidates, totalling 20 fits\n"
     ]
    },
    {
     "name": "stderr",
     "output_type": "stream",
     "text": [
      "[Parallel(n_jobs=1)]: Done  20 out of  20 | elapsed:  2.7min finished\n"
     ]
    },
    {
     "data": {
      "text/plain": [
       "GridSearchCV(cv=5, error_score='raise',\n",
       "       estimator=Pipeline(memory=None,\n",
       "     steps=[('tfidfvectorizer', TfidfVectorizer(analyzer='word', binary=False, decode_error='strict',\n",
       "        dtype=<class 'numpy.int64'>, encoding='utf-8', input='content',\n",
       "        lowercase=False, max_df=1.0, max_features=None, min_df=7,\n",
       "        ngram_range=(1, 1), norm='l2', preprocessor=None, smooth_...=True, solver='adam', tol=0.0001, validation_fraction=0.1,\n",
       "       verbose=False, warm_start=False))]),\n",
       "       fit_params=None, iid=True, n_jobs=1,\n",
       "       param_grid=[{'tfidfvectorizer__ngram_range': [(1, 1)], 'tfidfvectorizer__stop_words': [{'each', 'more', \"isn't\", 'are', \"you'd\", 'wouldn', 'for', 'had', 'hasn', 'them', 'doesn', \"couldn't\", 'your', \"haven't\", 'is', \"aren't\", 'then', 'myself', 'him', 'not', 'while', 'nor', 'its', 'to', 'shouldn', 'hi...: [1000, 4000], 'tfidfvectorizer__tokenizer': [<function tokenizer_stemmer at 0x0000016D8922AF28>]}],\n",
       "       pre_dispatch='2*n_jobs', refit=True, return_train_score='warn',\n",
       "       scoring='accuracy', verbose=1)"
      ]
     },
     "execution_count": 12,
     "metadata": {},
     "output_type": "execute_result"
    }
   ],
   "source": [
    "X = df.loc[:, 'review'].values\n",
    "y = df.loc[:, 'sentiment'].values\n",
    "\n",
    "text_train, text_test, y_train, y_test = train_test_split(X, y, \n",
    "                                                          random_state=42,\n",
    "                                                          test_size=0.25,\n",
    "                                                          stratify=y)\n",
    "\n",
    "#knn\n",
    "print('KNN')\n",
    "gs_tfidf.fit(text_train, y_train)\n",
    "#NB\n",
    "print('Naive Bayes')\n",
    "gs_tfidfNB.fit(text_train, y_train)\n",
    "#MLP\n",
    "print('Multilayer Perceptron')\n",
    "gs_tfidfMLP.fit(text_train, y_train)"
   ]
  },
  {
   "cell_type": "code",
   "execution_count": 13,
   "metadata": {},
   "outputs": [
    {
     "name": "stdout",
     "output_type": "stream",
     "text": [
      "KNN\n",
      "Best parameter set: {'tfidfvectorizer__max_features': 4000, 'tfidfvectorizer__ngram_range': (1, 1), 'tfidfvectorizer__stop_words': {'each', 'more', \"isn't\", 'are', \"you'd\", 'wouldn', 'for', 'had', 'hasn', 'them', 'doesn', \"couldn't\", 'your', \"haven't\", 'is', \"aren't\", 'then', 'myself', 'him', 'not', 'while', 'nor', 'its', 'to', 'shouldn', 'himself', 'who', 'you', 'her', 'out', 'o', \"shan't\", 'yours', 'below', 'an', 'how', 'but', 'same', 'too', \"won't\", 'ain', 'now', 'against', 'itself', 'up', 'down', 'don', 'it', 'aren', 'off', 'about', \"she's\", 'both', 'why', 'under', 'other', 'couldn', 'again', 'ma', 'once', 'over', 'such', 'that', 'haven', \"weren't\", 'and', \"mightn't\", 'weren', 'will', 'we', 'or', 'above', 'as', 'where', 'these', 'do', 'isn', 'he', 'this', 'whom', 'mustn', 'my', \"wouldn't\", 'on', 'she', 'was', 'only', 'been', 'can', 'were', 'y', 'during', 'll', 'his', 'yourself', 'from', 'shan', 'just', 'through', 'wasn', 'further', 'herself', 'me', 'by', 'mightn', 'their', 'themselves', \"you've\", 'theirs', \"should've\", 're', 'does', \"mustn't\", 'have', \"it's\", \"you'll\", 'most', \"don't\", 'what', 'hers', 'with', 'm', \"hasn't\", \"needn't\", 'doing', 'if', 'until', \"you're\", 'so', 'didn', 'a', 'has', 'of', 'there', 'our', 'at', 'all', 'some', 'no', 'which', \"hadn't\", 'ours', \"that'll\", 'very', 'won', 'before', 'be', \"wasn't\", 'yourselves', 'here', 'd', \"doesn't\", 'between', 'after', 'any', 've', 'the', \"didn't\", 'in', 'ourselves', 'i', 'being', 'because', 't', 'should', 's', 'when', 'into', 'am', 'having', 'few', 'needn', 'own', 'those', 'hadn', \"shouldn't\", 'than', 'they', 'did'}, 'tfidfvectorizer__tokenizer': <function tokenizer_stemmer at 0x0000016D8922AF28>} \n",
      "CV Accuracy: 0.730\n"
     ]
    }
   ],
   "source": [
    "print('KNN')\n",
    "print('Best parameter set: %s ' % gs_tfidf.best_params_)\n",
    "print('CV Accuracy: %.3f' % gs_tfidf.best_score_)"
   ]
  },
  {
   "cell_type": "code",
   "execution_count": 14,
   "metadata": {},
   "outputs": [
    {
     "name": "stdout",
     "output_type": "stream",
     "text": [
      "NB\n",
      "Best parameter set: {'tfidfvectorizer__max_features': 4000, 'tfidfvectorizer__ngram_range': (1, 1), 'tfidfvectorizer__stop_words': {'each', 'more', \"isn't\", 'are', \"you'd\", 'wouldn', 'for', 'had', 'hasn', 'them', 'doesn', \"couldn't\", 'your', \"haven't\", 'is', \"aren't\", 'then', 'myself', 'him', 'not', 'while', 'nor', 'its', 'to', 'shouldn', 'himself', 'who', 'you', 'her', 'out', 'o', \"shan't\", 'yours', 'below', 'an', 'how', 'but', 'same', 'too', \"won't\", 'ain', 'now', 'against', 'itself', 'up', 'down', 'don', 'it', 'aren', 'off', 'about', \"she's\", 'both', 'why', 'under', 'other', 'couldn', 'again', 'ma', 'once', 'over', 'such', 'that', 'haven', \"weren't\", 'and', \"mightn't\", 'weren', 'will', 'we', 'or', 'above', 'as', 'where', 'these', 'do', 'isn', 'he', 'this', 'whom', 'mustn', 'my', \"wouldn't\", 'on', 'she', 'was', 'only', 'been', 'can', 'were', 'y', 'during', 'll', 'his', 'yourself', 'from', 'shan', 'just', 'through', 'wasn', 'further', 'herself', 'me', 'by', 'mightn', 'their', 'themselves', \"you've\", 'theirs', \"should've\", 're', 'does', \"mustn't\", 'have', \"it's\", \"you'll\", 'most', \"don't\", 'what', 'hers', 'with', 'm', \"hasn't\", \"needn't\", 'doing', 'if', 'until', \"you're\", 'so', 'didn', 'a', 'has', 'of', 'there', 'our', 'at', 'all', 'some', 'no', 'which', \"hadn't\", 'ours', \"that'll\", 'very', 'won', 'before', 'be', \"wasn't\", 'yourselves', 'here', 'd', \"doesn't\", 'between', 'after', 'any', 've', 'the', \"didn't\", 'in', 'ourselves', 'i', 'being', 'because', 't', 'should', 's', 'when', 'into', 'am', 'having', 'few', 'needn', 'own', 'those', 'hadn', \"shouldn't\", 'than', 'they', 'did'}, 'tfidfvectorizer__tokenizer': <function tokenizer_stemmer at 0x0000016D8922AF28>} \n",
      "CV Accuracy: 0.818\n"
     ]
    }
   ],
   "source": [
    "print('NB')\n",
    "print('Best parameter set: %s ' % gs_tfidfNB.best_params_)\n",
    "print('CV Accuracy: %.3f' % gs_tfidfNB.best_score_)"
   ]
  },
  {
   "cell_type": "code",
   "execution_count": 15,
   "metadata": {},
   "outputs": [
    {
     "name": "stdout",
     "output_type": "stream",
     "text": [
      "MLP\n",
      "Best parameter set: {'tfidfvectorizer__max_features': 4000, 'tfidfvectorizer__ngram_range': (1, 1), 'tfidfvectorizer__stop_words': None, 'tfidfvectorizer__tokenizer': <function tokenizer_stemmer at 0x0000016D8922AF28>} \n",
      "CV Accuracy: 0.801\n"
     ]
    }
   ],
   "source": [
    "print('MLP')\n",
    "print('Best parameter set: %s ' % gs_tfidfMLP.best_params_)\n",
    "print('CV Accuracy: %.3f' % gs_tfidfMLP.best_score_)"
   ]
  },
  {
   "cell_type": "code",
   "execution_count": 16,
   "metadata": {},
   "outputs": [
    {
     "name": "stdout",
     "output_type": "stream",
     "text": [
      "Test Accuracy For kNN: 0.760\n",
      "Test Accuracy For NB: 0.884\n",
      "Test Accuracy For MLP: 0.836\n"
     ]
    }
   ],
   "source": [
    "clf = gs_tfidf.best_estimator_\n",
    "clfNB = gs_tfidfNB.best_estimator_\n",
    "clfMLP = gs_tfidfMLP.best_estimator_\n",
    "\n",
    "print('Test Accuracy For kNN: %.3f' % clf.score(text_test, y_test))\n",
    "print('Test Accuracy For NB: %.3f' % clfNB.score(text_test, y_test))\n",
    "print('Test Accuracy For MLP: %.3f' % clfMLP.score(text_test, y_test))"
   ]
  },
  {
   "cell_type": "code",
   "execution_count": 17,
   "metadata": {},
   "outputs": [
    {
     "name": "stdout",
     "output_type": "stream",
     "text": [
      "kNN\n",
      "Predicted    0    1  All\n",
      "True                    \n",
      "0           90   32  122\n",
      "1           28  100  128\n",
      "All        118  132  250\n",
      "NB\n",
      "Predicted    0    1  All\n",
      "True                    \n",
      "0          109   13  122\n",
      "1           16  112  128\n",
      "All        125  125  250\n",
      "MLP\n",
      "Predicted    0    1  All\n",
      "True                    \n",
      "0          109   13  122\n",
      "1           28  100  128\n",
      "All        137  113  250\n"
     ]
    }
   ],
   "source": [
    "y_pred = clf.predict(text_test)\n",
    "y_pred2 = clfNB.predict(text_test)\n",
    "y_pred3 = clfMLP.predict(text_test)\n",
    "\n",
    "\n",
    "y_test2 = pd.Series(y_test)\n",
    "y_predKNN = pd.Series(y_pred)\n",
    "y_predNB = pd.Series(y_pred2)\n",
    "y_predMLP = pd.Series(y_pred3)\n",
    "\n",
    "print('kNN')\n",
    "print(pd.crosstab(y_test2, y_predKNN, rownames=['True'], colnames=['Predicted'], margins=True))\n",
    "print('NB')\n",
    "print(pd.crosstab(y_test2, y_predNB, rownames=['True'], colnames=['Predicted'], margins=True))\n",
    "print('MLP')\n",
    "print(pd.crosstab(y_test2, y_predMLP, rownames=['True'], colnames=['Predicted'], margins=True))\n"
   ]
  },
  {
   "cell_type": "code",
   "execution_count": 18,
   "metadata": {},
   "outputs": [
    {
     "data": {
      "image/png": "[encoded data removed]",
      "text/plain": [
       "<Figure size 432x288 with 1 Axes>"
      ]
     },
     "metadata": {
      "needs_background": "light"
     },
     "output_type": "display_data"
    }
   ],
   "source": [
    "fpr1, tpr1, threshold1 = roc_curve(y_test, y_pred) \n",
    "fpr2, tpr2, threshold2 = roc_curve(y_test, y_pred2) \n",
    "fpr3, tpr3, threshold3 = roc_curve(y_test, y_pred3) \n",
    "\n",
    "# This is the AUC\n",
    "auc1 = auc(fpr1, tpr1)\n",
    "auc2 = auc(fpr2, tpr2)\n",
    "auc3 = auc(fpr3, tpr3)\n",
    "#auc = np.trapz(tpr1,fpr1)\n",
    "\n",
    "# This is the ROC curve\n",
    "plt.plot(fpr1,tpr1, label='KNN (area = %0.2f)' % (auc1))\n",
    "plt.plot(fpr2,tpr2, label='NB (area = %0.2f)' % (auc2))\n",
    "plt.plot(fpr3,tpr3, label='MLP (area = %0.2f)' % (auc2))\n",
    "plt.plot([0, 1], [0, 1], 'k--') # diagonal\n",
    "\n",
    "plt.xlabel('False positive rate')\n",
    "plt.ylabel('True positive rate')\n",
    "plt.title('ROC curve')\n",
    "plt.legend(loc='best')\n",
    "plt.show() "
   ]
  },
  {
   "cell_type": "code",
   "execution_count": null,
   "metadata": {},
   "outputs": [],
   "source": []
  }
 ],
 "metadata": {
  "kernelspec": {
   "display_name": "Python 3",
   "language": "python",
   "name": "python3"
  },
  "language_info": {
   "codemirror_mode": {
    "name": "ipython",
    "version": 3
   },
   "file_extension": ".py",
   "mimetype": "text/x-python",
   "name": "python",
   "nbconvert_exporter": "python",
   "pygments_lexer": "ipython3",
   "version": "3.7.0"
  }
 },
 "nbformat": 4,
 "nbformat_minor": 2
}
